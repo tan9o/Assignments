{
 "cells": [
  {
   "cell_type": "code",
   "execution_count": 91,
   "metadata": {},
   "outputs": [],
   "source": [
    "import torch\n",
    "import numpy as np\n",
    "import pandas\n",
    "from sklearn.neighbors import KNeighborsClassifier\n",
    "from sklearn.metrics import confusion_matrix"
   ]
  },
  {
   "cell_type": "code",
   "execution_count": 80,
   "metadata": {},
   "outputs": [],
   "source": [
    "(x_train, y_train, x_test, y_test)=torch.load('cifar10.pt')\n",
    "count = 0"
   ]
  },
  {
   "cell_type": "code",
   "execution_count": 81,
   "metadata": {},
   "outputs": [],
   "source": [
    "listhist = np.zeros(shape = (1000,768), dtype = int)\n",
    "listhisty = np.zeros(shape = (100,768), dtype = int)"
   ]
  },
  {
   "cell_type": "code",
   "execution_count": 82,
   "metadata": {},
   "outputs": [],
   "source": [
    "data = x_train.view(1000, 1024, 3).tolist()\n",
    "datan = np.array(data)\n",
    "datay = x_test.view(100, 1024, 3).tolist()\n",
    "datayn = np.array(datay)"
   ]
  },
  {
   "cell_type": "code",
   "execution_count": 83,
   "metadata": {},
   "outputs": [],
   "source": [
    "for i in range(1000):\n",
    "    for j in range(3):\n",
    "        for k in range(1024):\n",
    "            listhist[i][j*256 + datan[i][k][j]] += 1"
   ]
  },
  {
   "cell_type": "code",
   "execution_count": 84,
   "metadata": {},
   "outputs": [],
   "source": [
    "for i in range(100):\n",
    "    for j in range(3):\n",
    "        for k in range(1024):\n",
    "            listhisty[i][j*256 + datayn[i][k][j]] += 1"
   ]
  },
  {
   "cell_type": "code",
   "execution_count": 94,
   "metadata": {},
   "outputs": [
    {
     "name": "stderr",
     "output_type": "stream",
     "text": [
      "/opt/anaconda3/envs/tensorflow/lib/python3.6/site-packages/ipykernel_launcher.py:2: DataConversionWarning: A column-vector y was passed when a 1d array was expected. Please change the shape of y to (n_samples, ), for example using ravel().\n",
      "  \n"
     ]
    },
    {
     "data": {
      "text/plain": [
       "KNeighborsClassifier(algorithm='auto', leaf_size=30, metric='minkowski',\n",
       "           metric_params=None, n_jobs=None, n_neighbors=5, p=2,\n",
       "           weights='uniform')"
      ]
     },
     "execution_count": 94,
     "metadata": {},
     "output_type": "execute_result"
    }
   ],
   "source": [
    "neigh = KNeighborsClassifier(n_neighbors=5)\n",
    "neigh.fit(listhist, y_train)"
   ]
  },
  {
   "cell_type": "code",
   "execution_count": 89,
   "metadata": {},
   "outputs": [],
   "source": [
    "predicted = neigh.predict(listhisty)"
   ]
  },
  {
   "cell_type": "code",
   "execution_count": 90,
   "metadata": {},
   "outputs": [
    {
     "name": "stdout",
     "output_type": "stream",
     "text": [
      "15%\n"
     ]
    }
   ],
   "source": [
    "for i in range(100):\n",
    "    if(predicted[i] == y_test[i]):\n",
    "        count += 1\n",
    "        \n",
    "accuracy = count\n",
    "print(str(accuracy)+\"%\")\n",
    "count = 0"
   ]
  },
  {
   "cell_type": "code",
   "execution_count": 92,
   "metadata": {},
   "outputs": [
    {
     "data": {
      "text/plain": [
       "array([[4, 1, 0, 1, 0, 0, 2, 0, 2, 0],\n",
       "       [1, 2, 1, 0, 2, 0, 0, 0, 0, 0],\n",
       "       [1, 2, 2, 0, 0, 0, 2, 1, 0, 0],\n",
       "       [0, 3, 1, 1, 0, 0, 4, 0, 0, 1],\n",
       "       [0, 0, 3, 0, 0, 1, 2, 0, 0, 1],\n",
       "       [0, 3, 1, 1, 0, 0, 0, 1, 0, 2],\n",
       "       [1, 0, 1, 5, 4, 3, 2, 0, 0, 0],\n",
       "       [4, 2, 2, 0, 1, 0, 1, 0, 0, 1],\n",
       "       [3, 4, 0, 1, 0, 2, 0, 0, 1, 2],\n",
       "       [1, 2, 0, 4, 0, 0, 1, 0, 0, 3]])"
      ]
     },
     "execution_count": 92,
     "metadata": {},
     "output_type": "execute_result"
    }
   ],
   "source": [
    "confusion_matrix(y_test, predicted)"
   ]
  }
 ],
 "metadata": {
  "kernelspec": {
   "display_name": "Python 3",
   "language": "python",
   "name": "python3"
  },
  "language_info": {
   "codemirror_mode": {
    "name": "ipython",
    "version": 3
   },
   "file_extension": ".py",
   "mimetype": "text/x-python",
   "name": "python",
   "nbconvert_exporter": "python",
   "pygments_lexer": "ipython3",
   "version": "3.6.7"
  }
 },
 "nbformat": 4,
 "nbformat_minor": 2
}
